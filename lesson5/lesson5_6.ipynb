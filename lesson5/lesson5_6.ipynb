{
 "cells": [
  {
   "cell_type": "code",
   "execution_count": 2,
   "id": "1475f1de",
   "metadata": {},
   "outputs": [
    {
     "name": "stdout",
     "output_type": "stream",
     "text": [
      "=== Ollama 模型設定完成 ===\n",
      "使用模型: gemma3:270m\n",
      "使用類型: <class 'langchain_ollama.llms.OllamaLLM'>\n"
     ]
    }
   ],
   "source": [
    "from langchain_ollama import OllamaLLM\n",
    "\n",
    "model = OllamaLLM(model=\"gemma3:270m\")\n",
    "print(\"=== Ollama 模型設定完成 ===\")\n",
    "print(f\"使用模型: gemma3:270m\")\n",
    "print(f\"使用類型: {type(model)}\")"
   ]
  },
  {
   "cell_type": "code",
   "execution_count": 13,
   "id": "c28160bb",
   "metadata": {},
   "outputs": [
    {
     "name": "stdout",
     "output_type": "stream",
     "text": [
      "=== 基本 Prompt Template 範例 ===\n",
      "\n",
      "你是一位專業的繁體中文翻譯家，具有豐富的語言學背景。\n",
      "請將使用者提供的以下英文句子翻譯成流暢、自然的繁體中文。\n",
      "\n",
      "英文句子：Despite the burgeoning technological advancements aimed at streamlining global communication, the nuanced art of genuine interpersonal understanding often remains elusive, buried beneath the cacophony of rapidly disseminated, yet frequently superficial, digital interactions.\n",
      "繁體中文翻譯：\n",
      "\n",
      "\n",
      "==================================================\n",
      "Ollama gemma3:270m模型回應:\n",
      "以下是幾個翻譯選項，各有側重，你可以根據不同的語氣和目標受眾選擇：\n",
      "\n",
      "**選項一 (較正式，強調困境)：**\n",
      "\n",
      "「雖然全球間的科技進步，旨在提升溝通效率，卻經常難以捉摸出人情味真摯的互動，常常被快速傳播卻往往浮於表象之上的數位交流所掩埋。」\n",
      "\n",
      "**選項二 (較自然，更強調難以理解)：**\n",
      "\n",
      "「雖然科技發展不斷，希望能讓世界溝通更順暢，但真正能理解人際關係的難事，卻常常被快速傳播的數位訊息所遮蔽。」\n",
      "\n",
      "**選項三 (簡潔有力，適合用於文案或描述)：**\n",
      "\n",
      "「全球科技進步，卻難以真正理解人際關係。」\n",
      "\n",
      "**細節說明：**\n",
      "\n",
      "*   **“Despite”** 翻譯為 “雖然”，表達了相反的狀態。\n",
      "*   **“burgeoning technological advancements”** 翻譯為 “科技進步” 或是 “科技發展”，保持了原文的意思，並加入了 “進步” 的帶有進步的色彩。\n",
      "*   **“streamlining global communication”** 翻譯為 “提升溝通效率” 或 “讓世界溝通更順暢”， 根據上下文選擇最合適的表達方式。\n",
      "*   **“nuanced art of genuine interpersonal understanding”**  翻譯為 “人情味真摯的互動” 或 “真正能理解人際關係”， 力求保留原文的精髓。\n",
      "*   **“often remains elusive”** 翻譯為 “常常難以捉摸” 或 “常常被遮蔽”， 更加生動。\n",
      "*   **“buried beneath the cacophony of rapidly disseminated, yet frequently superficial, digital interactions”**  這部分是關鍵，翻譯為 “常常被快速傳播卻往往浮於表象之上的數位交流” 或 “快速傳播的數位訊息所掩埋”， 盡力將原文的複雜程度簡化，並帶有隱喻。\n",
      "\n",
      "希望以上翻譯能滿足你的要求！ 如果你還需要針對特定情境進行調整，請隨時告訴我。\n",
      "\n"
     ]
    }
   ],
   "source": [
    "# 1. 基本 Prompt Template 使用\n",
    "from langchain.prompts import PromptTemplate\n",
    "from langchain_ollama import OllamaLLM\n",
    "\n",
    "model = OllamaLLM(model=\"gemma3:1b\")\n",
    "\n",
    "# 建立翻譯模板\n",
    "template_text = \"\"\"\n",
    "你是一位專業的繁體中文翻譯家，具有豐富的語言學背景。\n",
    "請將使用者提供的以下英文句子翻譯成流暢、自然的繁體中文。\n",
    "\n",
    "英文句子：{english_sentence}\n",
    "繁體中文翻譯：\n",
    "\"\"\"\n",
    "\n",
    "# 建立 Prompt Template\n",
    "prompt_template = PromptTemplate(\n",
    "    input_variables=[\"english_sentence\"],\n",
    "    template=template_text\n",
    ")\n",
    "\n",
    "# 使用模板\n",
    "formatted_prompt = prompt_template.format(english_sentence=\"Despite the burgeoning technological advancements aimed at streamlining global communication, the nuanced art of genuine interpersonal understanding often remains elusive, buried beneath the cacophony of rapidly disseminated, yet frequently superficial, digital interactions.\")\n",
    "print(\"=== 基本 Prompt Template 範例 ===\")\n",
    "print(formatted_prompt)\n",
    "print(\"\\n\" + \"=\"*50)\n",
    "print(\"Ollama gemma3:270m模型回應:\")\n",
    "\n",
    "response = model.invoke(formatted_prompt)\n",
    "print(response)"
   ]
  },
  {
   "cell_type": "code",
   "execution_count": 17,
   "id": "b4bed5fe",
   "metadata": {},
   "outputs": [
    {
     "name": "stdout",
     "output_type": "stream",
     "text": [
      "=== 多變數複雜模板範例 ===\n",
      "Human: \n",
      "你是一位專業的繁體中文翻譯家，專精於商業領域。\n",
      "請將以下英文文本翻譯成繁體中文，並確保：\n",
      "1. 保持原文的語氣和風格\n",
      "2. 使用專業術語\n",
      "3. 符合繁體中文的語言習慣\n",
      "\n",
      "英文文本：Despite the burgeoning technological advancements aimed at streamlining global communication, the nuanced art of genuine interpersonal understanding often remains elusive, buried beneath the cacophony of rapidly disseminated, yet frequently superficial, digital interactions.\n",
      "繁體中文翻譯：\n",
      "\n",
      "\n",
      "==================================================\n",
      "Ollama gemma3:270m模型回應:\n",
      "儘管不斷湧現的技術進步旨在簡化全球通訊，真正的人際理解細緻藝術仍難以捉摸，常被迅速傳播卻帶有淺薄特質的數位互動喧囂所掩蓋。\n"
     ]
    }
   ],
   "source": [
    "# 2. 多變數的複雜模板\n",
    "from langchain.prompts import ChatPromptTemplate\n",
    "from langchain_ollama import OllamaLLM\n",
    "\n",
    "model = OllamaLLM(model=\"gpt-oss:20b\")\n",
    "\n",
    "# 建立多變數的翻譯模板\n",
    "complex_template = \"\"\"\n",
    "你是一位專業的{target_language}翻譯家，專精於{domain}領域。\n",
    "請將以下{source_language}文本翻譯成{target_language}，並確保：\n",
    "1. 保持原文的語氣和風格\n",
    "2. 使用專業術語\n",
    "3. 符合{target_language}的語言習慣\n",
    "\n",
    "{source_language}文本：{text}\n",
    "{target_language}翻譯：\n",
    "\"\"\"\n",
    "\n",
    "# 建立 ChatPromptTemplate\n",
    "chat_prompt_template = ChatPromptTemplate.from_template(complex_template)\n",
    "\n",
    "# 使用多個變數\n",
    "formatted_prompt = chat_prompt_template.format(\n",
    "    source_language=\"英文\",\n",
    "    target_language=\"繁體中文\", \n",
    "    domain=\"商業\",\n",
    "    text=\"Despite the burgeoning technological advancements aimed at streamlining global communication, the nuanced art of genuine interpersonal understanding often remains elusive, buried beneath the cacophony of rapidly disseminated, yet frequently superficial, digital interactions.\"\n",
    ")\n",
    "\n",
    "print(\"=== 多變數複雜模板範例 ===\")\n",
    "print(formatted_prompt)\n",
    "print(\"\\n\" + \"=\"*50)\n",
    "print(\"Ollama gemma3:270m模型回應:\")\n",
    "\n",
    "response = model.invoke(formatted_prompt)\n",
    "print(response)"
   ]
  }
 ],
 "metadata": {
  "kernelspec": {
   "display_name": ".venv",
   "language": "python",
   "name": "python3"
  },
  "language_info": {
   "codemirror_mode": {
    "name": "ipython",
    "version": 3
   },
   "file_extension": ".py",
   "mimetype": "text/x-python",
   "name": "python",
   "nbconvert_exporter": "python",
   "pygments_lexer": "ipython3",
   "version": "3.10.18"
  }
 },
 "nbformat": 4,
 "nbformat_minor": 5
}
