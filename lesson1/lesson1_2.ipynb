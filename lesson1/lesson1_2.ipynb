{
 "cells": [
  {
   "cell_type": "markdown",
   "id": "b47df913",
   "metadata": {},
   "source": [
    "### 這是langchain的課程"
   ]
  },
  {
   "cell_type": "code",
   "execution_count": 1,
   "id": "44bb87b4",
   "metadata": {},
   "outputs": [
    {
     "name": "stdout",
     "output_type": "stream",
     "text": [
      "Hello, World!\n"
     ]
    }
   ],
   "source": [
    "print(\"Hello, World!\")"
   ]
  },
  {
   "cell_type": "code",
   "execution_count": 2,
   "id": "5aadc337",
   "metadata": {},
   "outputs": [
    {
     "name": "stdout",
     "output_type": "stream",
     "text": [
      "my_int: 10\n",
      "my_float: 3.14\n",
      "my_str: LangChain\n",
      "my_bool: True\n",
      "加法結果: 15\n",
      "減法結果: 8\n",
      "乘法結果: 30\n",
      "除法結果: 5.0\n",
      "次方結果: 100\n"
     ]
    }
   ],
   "source": [
    "# 建立不同型態的變數\n",
    "my_int = 10            # 整數 (int)\n",
    "my_float = 3.14        # 浮點數 (float)\n",
    "my_str = \"LangChain\"   # 字串 (str)\n",
    "my_bool = True         # 布林值 (bool)\n",
    "\n",
    "# 數學運算範例\n",
    "sum_result = my_int + 5           # 加法\n",
    "diff_result = my_int - 2          # 減法\n",
    "product_result = my_int * 3       # 乘法\n",
    "division_result = my_int / 2      # 除法\n",
    "power_result = my_int ** 2        # 次方\n",
    "\n",
    "# 印出結果讓學生觀察\n",
    "print(\"my_int:\", my_int)\n",
    "print(\"my_float:\", my_float)\n",
    "print(\"my_str:\", my_str)\n",
    "print(\"my_bool:\", my_bool)\n",
    "print(\"加法結果:\", sum_result)\n",
    "print(\"減法結果:\", diff_result)\n",
    "print(\"乘法結果:\", product_result)\n",
    "print(\"除法結果:\", division_result)\n",
    "print(\"次方結果:\", power_result)\n"
   ]
  }
 ],
 "metadata": {
  "kernelspec": {
   "display_name": "langchain",
   "language": "python",
   "name": "python3"
  },
  "language_info": {
   "codemirror_mode": {
    "name": "ipython",
    "version": 3
   },
   "file_extension": ".py",
   "mimetype": "text/x-python",
   "name": "python",
   "nbconvert_exporter": "python",
   "pygments_lexer": "ipython3",
   "version": "3.11.13"
  }
 },
 "nbformat": 4,
 "nbformat_minor": 5
}
