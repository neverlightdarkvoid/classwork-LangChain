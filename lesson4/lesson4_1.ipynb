{
 "cells": [
  {
   "cell_type": "markdown",
   "id": "ca09f759",
   "metadata": {},
   "source": [
    "### Ollama"
   ]
  },
  {
   "cell_type": "code",
   "execution_count": 2,
   "id": "c132266d",
   "metadata": {},
   "outputs": [
    {
     "name": "stdout",
     "output_type": "stream",
     "text": [
      "所有答案\n",
      "content='81 除以 9 的结果是：9' additional_kwargs={} response_metadata={'model': 'llama3.2:latest', 'created_at': '2025-09-20T06:24:42.2528615Z', 'done': True, 'done_reason': 'stop', 'total_duration': 8486328500, 'load_duration': 7572120600, 'prompt_eval_count': 33, 'prompt_eval_duration': 701365600, 'eval_count': 12, 'eval_duration': 204930600, 'model_name': 'llama3.2:latest'} id='run--b5554f9a-3c35-44f0-a350-fc777e844a2c-0' usage_metadata={'input_tokens': 33, 'output_tokens': 12, 'total_tokens': 45}\n",
      "回答內容是\n",
      "81 除以 9 的结果是：9\n"
     ]
    }
   ],
   "source": [
    "from langchain_ollama import ChatOllama\n",
    "\n",
    "\n",
    "# Create a ChatOllama model\n",
    "# 透過網址的方式連結ollama (指定 base_url 指向 Ollama server)\n",
    "# 預設 Ollama server 在本機的 11434 埠，若在其他主機或埠請改成相對應的網址\n",
    "\n",
    "# model = ChatOllama(model=\"llama3.2:latest\", base_url=\"http://host.docker.internal:11434\")\n",
    "model = ChatOllama(model=\"llama3.2:latest\", base_url=\"http://localhost:11434\")\n",
    "\n",
    "\n",
    "# Invoke the model with a message\n",
    "result = model.invoke(\"81除以9的答案是?\")\n",
    "print(\"所有答案\")\n",
    "print(result)\n",
    "print(\"回答內容是\")\n",
    "print(result.content)"
   ]
  },
  {
   "cell_type": "markdown",
   "id": "31ad586c",
   "metadata": {},
   "source": [
    "### google_gemini"
   ]
  },
  {
   "cell_type": "code",
   "execution_count": 9,
   "id": "c079662d",
   "metadata": {},
   "outputs": [
    {
     "name": "stdout",
     "output_type": "stream",
     "text": [
      "<class 'langchain_core.messages.ai.AIMessage'>\n",
      "所有答案\n",
      "回答內容是\n",
      "好的，這是一首關於秋天的五言絕句：\n",
      "\n",
      "秋風送微涼，\n",
      "黃葉隨風降。\n",
      "籬邊菊始開，\n",
      "蟲鳴夜漸長。\n"
     ]
    }
   ],
   "source": [
    "from dotenv import load_dotenv\n",
    "from langchain_google_genai import ChatGoogleGenerativeAI\n",
    "\n",
    "# Load environment variables from .env\n",
    "load_dotenv()\n",
    "\n",
    "# Create a ChatGoogleGenerativeAI model\n",
    "model = ChatGoogleGenerativeAI(model=\"gemini-2.5-flash\",temperature=1)\n",
    "\n",
    "# Invoke the model with a message\n",
    "result = model.invoke(\"請用繁體中文寫一首有關秋天的五言絕句\")\n",
    "print(type(result))\n",
    "print(\"所有答案\")\n",
    "#json_data = result.to_json()\n",
    "#print(json_data[\"kwargs\"][\"content\"])\n",
    "print(\"回答內容是\")\n",
    "print(result.content)"
   ]
  }
 ],
 "metadata": {
  "kernelspec": {
   "display_name": ".venv",
   "language": "python",
   "name": "python3"
  },
  "language_info": {
   "codemirror_mode": {
    "name": "ipython",
    "version": 3
   },
   "file_extension": ".py",
   "mimetype": "text/x-python",
   "name": "python",
   "nbconvert_exporter": "python",
   "pygments_lexer": "ipython3",
   "version": "3.10.18"
  }
 },
 "nbformat": 4,
 "nbformat_minor": 5
}
