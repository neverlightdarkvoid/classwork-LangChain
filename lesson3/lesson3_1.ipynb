{
 "cells": [
  {
   "cell_type": "code",
   "execution_count": 9,
   "id": "fcbc6bf8",
   "metadata": {},
   "outputs": [
    {
     "name": "stdout",
     "output_type": "stream",
     "text": [
      "現在的時間是: 2025-09-13 10:17:00.272644\n",
      "隨機一個數: 3\n",
      "目前的工作目錄: c:\\Users\\ASUS\\Documents\\GitHub\\classwork-LangChain\\lesson3\n"
     ]
    }
   ],
   "source": [
    "# 使用python內建的標準函式庫\n",
    "import datetime\n",
    "import random\n",
    "import os\n",
    "\n",
    "now = datetime.datetime.now()\n",
    "print(\"現在的時間是:\",now)\n",
    "\n",
    "rand_num = random.randint(1,10)\n",
    "print(\"隨機一個數:\", rand_num)\n",
    "\n",
    "current_dir = os.getcwd()\n",
    "print(\"目前的工作目錄:\", current_dir)"
   ]
  },
  {
   "cell_type": "markdown",
   "id": "cebd3c73",
   "metadata": {},
   "source": [
    "### 利用python的外部套件requests,用來說明位外部套件的安裝與使用\n",
    "\n",
    "在使用 `requests` 套件前，請先確定已經安裝。可以在終端機(Terminal)或Jupyter Notebook中執行以下指令安裝:  \n",
    "pip install"
   ]
  },
  {
   "cell_type": "code",
   "execution_count": 6,
   "id": "95259a49",
   "metadata": {},
   "outputs": [
    {
     "name": "stdout",
     "output_type": "stream",
     "text": [
      "回應的狀態碼: 200\n",
      "回應的前100個字元: <!doctype html><html itemscope=\"\" itemtype=\"http://schema.org/WebPage\" lang=\"zh-TW\"><head><meta cont\n"
     ]
    }
   ],
   "source": [
    "import requests\n",
    "response = requests.get(\"https://www.google.com\")\n",
    "print(\"回應的狀態碼:\", response.status_code)\n",
    "print(\"回應的前100個字元:\", response.text[:100])\n",
    "#print(\"全部內容:\", response.text)"
   ]
  }
 ],
 "metadata": {
  "kernelspec": {
   "display_name": "langchain",
   "language": "python",
   "name": "python3"
  },
  "language_info": {
   "codemirror_mode": {
    "name": "ipython",
    "version": 3
   },
   "file_extension": ".py",
   "mimetype": "text/x-python",
   "name": "python",
   "nbconvert_exporter": "python",
   "pygments_lexer": "ipython3",
   "version": "3.11.13"
  }
 },
 "nbformat": 4,
 "nbformat_minor": 5
}
