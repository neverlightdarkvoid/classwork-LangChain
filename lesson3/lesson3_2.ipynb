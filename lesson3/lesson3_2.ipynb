{
 "cells": [
  {
   "cell_type": "markdown",
   "id": "be1a6de9",
   "metadata": {},
   "source": [
    "## curl 轉換成 requests 的說明  \n",
    "### 🔄 轉換要點：\n",
    "1. **HTTP 方法**：curl -d 表示發送 POST 請求，所以使用 requests.post()\n",
    "\n",
    "2. **URL**：直接使用相同的 URL\n",
    "\n",
    "### 資料格式：\n",
    "\n",
    "curl -d 後面的 JSON 資料變成 Python 字典  \n",
    "使用 json=data 參數自動處理 Content-Type 和 JSON 編碼  \n",
    "🎯 兩種主要方法：  \n",
    "**方法1（推薦）**：使用 json 參數\n",
    "\n",
    "response = requests.post(url, json=data)  \n",
    "**方法2**：使用 data 參數 + 手動 JSON 編碼\n",
    "\n",
    "response = requests.post(url, data=json.dumps(data), headers={'Content-Type': 'application/json'})  \n",
    "### ⚠️ 注意事項：  \n",
    "1. 確保目標伺服器正在運行\n",
    "2. 檢查網路連線\n",
    "3. 處理可能的錯誤狀況"
   ]
  },
  {
   "cell_type": "code",
   "execution_count": null,
   "id": "baef84fd",
   "metadata": {},
   "outputs": [
    {
     "name": "stdout",
     "output_type": "stream",
     "text": [
      "天空之所以是藍的，主要跟光線和空氣中的微小粒子有關，以下是詳細的解釋：\n",
      "\n",
      "**1. 光的散射 (Rayleigh Scattering):**\n",
      "\n",
      "* **太陽光包含所有顏色的光：** 太陽光看起來是白色的，但實際上它包含紅、橙、黃、綠、藍、靛、紫等所有顏色。\n",
      "* **大氣中的微小粒子：** 地球的大氣層中存在著大量的微小粒子，像是空氣中的氮氣和氧氣，它們就像小小的「懸浮物」。\n",
      "* **光線與微粒碰撞：** 當太陽光進入大氣層時，它與這些微粒子碰撞並相互作用。\n",
      "* **能量轉換：** 這個碰撞會導致光線發生散射，也就是能量被分散。\n",
      "* **藍光散射更多：** 藍光波長比較短，所以更容易被散射。  這就是所謂的「Rayleigh Scattering」。\n",
      "\n",
      "**2. 藍色光更容易被散射：**\n",
      "\n",
      "* **波長短，能量低：** 藍光波長短，散射效果比其他顏色更強。\n",
      "* **我們眼睛更容易感知：** 我們的眼睛對藍光更敏感，因此我們感知到的天空是藍色的。\n",
      "\n",
      "**3. 其他顏色的散射：**\n",
      "\n",
      "* **紅色和黃色散射更多：** 由於紅和黃光的波長較長，它們更容易穿透，所以它們的散射程度比藍光要小。\n",
      "* **靛藍光少：** 由於靛光波長較長，散射效果較弱，所以很少佔據天空的比例。\n",
      "\n",
      "**總結:**\n",
      "\n",
      "天空之所以是藍色的，是因為 **光線在大氣層中遇到微小粒子時，大部分的藍光被散射，使得我們看到天空是藍色的。**\n",
      "\n",
      "**重要補充：**\n",
      "\n",
      "* **日出和日落時，太陽光穿過的大氣層更長，藍光更容易被散射，所以我們看到的顏色會變成紅色和橙色。**\n",
      "* **季節也會影響天空顏色：** 在日出和日落時，太陽角度改變，導致藍光被散射的程度增加，從而出現紅色的天空。\n",
      "\n",
      "希望這個解釋能幫助你理解天空為什麼是藍色的!\n",
      "\n",
      "如果你想了解更多關於光的性質，或者還有其他科學知識，隨時都可以問我。\n"
     ]
    }
   ],
   "source": [
    "# 版本A\n",
    "import requests\n",
    "import json\n",
    "\n",
    "url = \"http://localhost:11434/api/generate\"\n",
    "data = {\n",
    "    \"model\": \"gemma3:1b\",\n",
    "    \"prompt\": \"天空為什麼是藍的?\"\n",
    "    # 預設 stream = True\n",
    "}\n",
    "\n",
    "with requests.post(url, json=data, stream=True, timeout=None) as resp:\n",
    "    resp.raise_for_status()\n",
    "    for line in resp.iter_lines(decode_unicode=True):\n",
    "        if not line:\n",
    "            continue\n",
    "        try:\n",
    "            obj = json.loads(line)  # 每行都是一個 JSON\n",
    "        except json.JSONDecodeError:\n",
    "            print(\"跳過非 JSON 行：\", line)\n",
    "            continue\n",
    "\n",
    "        if \"response\" in obj:\n",
    "            print(obj[\"response\"], end=\"\")  # 持續打印模型輸出\n",
    "        if obj.get(\"done\"):\n",
    "            break\n"
   ]
  },
  {
   "cell_type": "code",
   "execution_count": 10,
   "id": "63167cd0",
   "metadata": {},
   "outputs": [
    {
     "name": "stdout",
     "output_type": "stream",
     "text": [
      "模型回覆： 天空之所以是藍色的，是一個非常有趣且精確的物理現象，主要歸功於一種稱為「瑞利散射」的過程。以下是更詳細的解釋：\n",
      "\n",
      "**1. 太陽光與空氣中的粒子：**\n",
      "\n",
      "*   太陽光是由紅、黃、橙、紫等不同顏色的光組成，這些顏色彼此混雜。\n",
      "*   在我們大氣層中，存在大量的微小粒子，例如氮氣和氧氣。\n",
      "\n",
      "**2. 瑞利散射：**\n",
      "\n",
      "*   當太陽光穿過地球大氣層時，它會與這些微小粒子發生碰撞。\n",
      "*   這種碰撞會導致光線散射，這就是「瑞利散射」。\n",
      "*   瑞利散射的關鍵是，不同顏色的光，尤其是藍色和紅色，散射的強度會比較明顯。  藍色光波長較短，更容易被散射。\n",
      "\n",
      "**3. 藍光被我們看到：**\n",
      "\n",
      "*   由於藍色光被散射得更多，所以我們看到的天空，實際上是**散射了大量的藍光**。\n",
      "*   當我們看向天空，我們看到的是被散射的藍光。\n",
      "\n",
      "**4. 為什麼是藍色，而不是其他顏色？**\n",
      "\n",
      "*   雖然其他顏色也會散射，但藍色光波長較短，被散射的程度更高。\n",
      "*   由於藍色光被散射得更多，我們眼中的天空看起來是藍色的。\n",
      "\n",
      "**類似於光線的“舞蹈”：**\n",
      "\n",
      "想像一下，太陽光就像一束光線，在空中進行了一場舞蹈。藍色光像一群小孩子在跳舞，而其他顏色像成年人。  藍色光被散射得更多，所以我們看到的Sky就是藍色的。\n",
      "\n",
      "**需要注意的是：**\n",
      "\n",
      "*   日落時，太陽光需要穿過更多的大氣層才能到達我們眼睛，藍光被散射得更多，所以天空看起來是橙色或紅色。\n",
      "*   即使是在晴朗的天氣裡，因為空氣中的粒子也會散射光線，所以天空也會呈現出不同的顏色。\n",
      "\n",
      "希望這個解釋能幫助你理解天空為什麼是藍色的！\n",
      "\n"
     ]
    }
   ],
   "source": [
    "# 版本B\n",
    "import requests\n",
    "\n",
    "url = \"http://localhost:11434/api/generate\"\n",
    "data = {\n",
    "    \"model\": \"gemma3:1b\",\n",
    "    \"prompt\": \"天空為什麼是藍的?\",\n",
    "    \"stream\": False  # ← 關鍵\n",
    "}\n",
    "\n",
    "resp = requests.post(url, json=data)\n",
    "resp.raise_for_status()\n",
    "result = resp.json()\n",
    "\n",
    "print(\"模型回覆：\", result.get(\"response\"))\n"
   ]
  },
  {
   "cell_type": "code",
   "execution_count": 17,
   "id": "e88c5907",
   "metadata": {},
   "outputs": [
    {
     "name": "stdout",
     "output_type": "stream",
     "text": [
      "請求成功!\n"
     ]
    },
    {
     "data": {
      "text/html": [
       "<p>天空之所以是藍的，主要是一個非常有趣的光學現象，這個現象稱為<strong>瑞利散射（Rayleigh scattering）</strong>。以下是詳細的解釋：</p>\n",
       "<ol>\n",
       "<li>\n",
       "<p><strong>太陽光包含所有顏色:</strong> 我們看到的太陽光看起來是黃色或金黃色的，這主要是因為太陽光中包含所有顏色的光。</p>\n",
       "</li>\n",
       "<li>\n",
       "<p><strong>光線進入大氣層:</strong> 當太陽光穿過地球的大氣層時，光線會與大氣中的微小粒子（主要是氮氣和氧氣）碰撞。</p>\n",
       "</li>\n",
       "<li>\n",
       "<p><strong>瑞利散射發生:</strong> 瑞利散射是光線在穿過微小粒子時，被各個方向散射的現象。 瑞利散射強度與光的波長（顏色）成反比。 也就是說，波長較短的光 (藍色和紫色) 被散射到更多的程度，而波長較長的光 (紅色和黃色) 被散射到較少。</p>\n",
       "</li>\n",
       "<li>\n",
       "<p><strong>藍色光被散射更多:</strong> 因為藍色的光波長短，所以它被大氣中的微小粒子散射到更廣泛的區域。  這就是為什麼我們看到的天空呈現出藍色。</p>\n",
       "</li>\n",
       "</ol>\n",
       "<p><strong>簡單來說，太陽光進入大氣層，藍色光被散射得更多，所以我們看到的顏色就是藍色。</strong></p>\n",
       "<p><strong>其他因素可能影響天空的顏色:</strong></p>\n",
       "<ul>\n",
       "<li><strong>時間:</strong> 傍晚時分，太陽光穿過的大氣層更長，散射效果更強烈，導致天空呈現出紅色或橙色的顏色。這是因為藍色光已經被散射掉。</li>\n",
       "<li><strong>空氣中的灰塵或水蒸氣:</strong> 如果空氣中有很多灰塵或水蒸氣，也會影響散射效果，導致天空顏色更加鮮豔。</li>\n",
       "</ul>\n",
       "<p>希望這個解釋能讓你理解為什麼天空是藍色的！</p>"
      ],
      "text/plain": [
       "<IPython.core.display.HTML object>"
      ]
     },
     "metadata": {},
     "output_type": "display_data"
    }
   ],
   "source": [
    "# 版本C\n",
    "import requests\n",
    "import markdown\n",
    "from IPython.display import display, HTML\n",
    "\n",
    "# 將curl 命令轉換成 requests轉換成 requests\n",
    "url = \"http://localhost:11434/api/generate\"\n",
    "\n",
    "# 準備請求的資料(JSON格式)\n",
    "data = {\n",
    "    \"model\": \"gemma3:1b\",\n",
    "    \"prompt\": \"天空為什麼是藍的?\",\n",
    "    \"stream\": False\n",
    "}\n",
    "\n",
    "response = requests.post(url, json=data)\n",
    "\n",
    "if response.status_code == 200:\n",
    "    print(\"請求成功!\")\n",
    "    answer = response.json()['response']\n",
    "    #print(f\"AI 回答: {answer}\")\n",
    "    # 將 Markdown 轉為 HTML 並顯示\n",
    "    markdown_answer = answer\n",
    "    html_str = markdown.markdown(markdown_answer, extensions=[\"fenced_code\", \"tables\"])\n",
    "    display(HTML(html_str))\n",
    "else:\n",
    "    print(f\"請求失敗: {response.text}\")"
   ]
  }
 ],
 "metadata": {
  "kernelspec": {
   "display_name": "langchain",
   "language": "python",
   "name": "python3"
  },
  "language_info": {
   "codemirror_mode": {
    "name": "ipython",
    "version": 3
   },
   "file_extension": ".py",
   "mimetype": "text/x-python",
   "name": "python",
   "nbconvert_exporter": "python",
   "pygments_lexer": "ipython3",
   "version": "3.11.13"
  }
 },
 "nbformat": 4,
 "nbformat_minor": 5
}
