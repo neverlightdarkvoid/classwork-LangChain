{
 "cells": [
  {
   "cell_type": "code",
   "execution_count": null,
   "id": "98a0dbcf",
   "metadata": {},
   "outputs": [
    {
     "data": {
      "text/plain": [
       "60"
      ]
     },
     "execution_count": 3,
     "metadata": {},
     "output_type": "execute_result"
    }
   ],
   "source": [
    "i = 10\n",
    "# 複合指定運算子\n",
    "i += 50\n",
    "i"
   ]
  },
  {
   "cell_type": "code",
   "execution_count": 10,
   "id": "9fe2872a",
   "metadata": {},
   "outputs": [
    {
     "name": "stdout",
     "output_type": "stream",
     "text": [
      "55\n"
     ]
    }
   ],
   "source": [
    "i = 0\n",
    "for add in range(1,11):\n",
    "    i += add\n",
    "print(i)"
   ]
  },
  {
   "cell_type": "code",
   "execution_count": 12,
   "id": "858f97ee",
   "metadata": {},
   "outputs": [
    {
     "name": "stdout",
     "output_type": "stream",
     "text": [
      "太小了!\n",
      "太大了!\n",
      "猜對了!\n",
      "遊戲結束\n"
     ]
    }
   ],
   "source": [
    "# 猜數字遊戲 (簡化版)\n",
    "import random\n",
    "secret_number = random.randint(1, 10)\n",
    "\n",
    "while True: # 無限迴圈\n",
    "    guess = int(input(\"請猜一個1到10的數字\"))\n",
    "    if guess == secret_number:\n",
    "        print(\"猜對了!\")\n",
    "        break # 跳出迴圈\n",
    "    elif guess < secret_number:\n",
    "        print(\"太小了!\")\n",
    "    else:\n",
    "        print(\"太大了!\")\n",
    "\n",
    "print(\"遊戲結束\")"
   ]
  },
  {
   "cell_type": "code",
   "execution_count": 17,
   "id": "57146e88",
   "metadata": {},
   "outputs": [
    {
     "name": "stdout",
     "output_type": "stream",
     "text": [
      "   *   \n",
      "  ***  \n",
      " ***** \n",
      "*******\n",
      "   |   \n"
     ]
    }
   ],
   "source": [
    "# 自訂一個function,必須列印出聖誕樹，要有樹葉與樹幹\n",
    "# todo:\n",
    "def print_christmas_tree_sample():\n",
    "    print('   *   ')\n",
    "    print('  ***  ')\n",
    "    print(' ***** ')\n",
    "    print('*******')\n",
    "    print('   |   ')\n",
    "\n",
    "print_christmas_tree_sample()"
   ]
  },
  {
   "cell_type": "code",
   "execution_count": 19,
   "id": "c3de2769",
   "metadata": {},
   "outputs": [
    {
     "name": "stdout",
     "output_type": "stream",
     "text": [
      "   *\n",
      "  ***\n",
      " *****\n",
      "*******\n",
      "   |\n"
     ]
    }
   ],
   "source": [
    "# 自訂一個function,必須列印出聖誕樹\n",
    "# todo:\n",
    "def print_christmas_tree(height):\n",
    "    for i in range(height):\n",
    "        print(\" \" * (height-i-1) + \"*\" * (2*i+1))\n",
    "    print(\" \" * (height-1) + \"|\")\n",
    "\n",
    "print_christmas_tree(4)"
   ]
  },
  {
   "cell_type": "code",
   "execution_count": 24,
   "id": "cf99b614",
   "metadata": {},
   "outputs": [
    {
     "name": "stdout",
     "output_type": "stream",
     "text": [
      "園面積: 78.54\n",
      "園周長: 31.42\n"
     ]
    }
   ],
   "source": [
    "import math\n",
    "\n",
    "def calculate_circle(radius):\n",
    "    # 計算園面積\n",
    "    area = math.pi * radius ** 2\n",
    "    # 計算圓周長\n",
    "    circumference = 2 * math.pi * radius\n",
    "    return area, circumference\n",
    "\n",
    "# 呼叫函示: 計算園面積和圓周長\n",
    "radius = int(input(\"請輸入圓的半徑: \"))\n",
    "area, circumference = calculate_circle(radius)\n",
    "print(f\"園面積: {area:.2f}\")\n",
    "print(f\"園周長: {circumference:.2f}\")"
   ]
  },
  {
   "cell_type": "code",
   "execution_count": 23,
   "id": "bb3bc1df",
   "metadata": {},
   "outputs": [
    {
     "name": "stdout",
     "output_type": "stream",
     "text": [
      "178\n",
      "80\n"
     ]
    }
   ],
   "source": [
    "# tuple的解析法\n",
    "height, weight = 178,80\n",
    "print(height)\n",
    "print(weight)"
   ]
  }
 ],
 "metadata": {
  "kernelspec": {
   "display_name": "langchain",
   "language": "python",
   "name": "python3"
  },
  "language_info": {
   "codemirror_mode": {
    "name": "ipython",
    "version": 3
   },
   "file_extension": ".py",
   "mimetype": "text/x-python",
   "name": "python",
   "nbconvert_exporter": "python",
   "pygments_lexer": "ipython3",
   "version": "3.11.13"
  }
 },
 "nbformat": 4,
 "nbformat_minor": 5
}
