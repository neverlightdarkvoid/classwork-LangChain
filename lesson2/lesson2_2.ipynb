{
 "cells": [
  {
   "cell_type": "code",
   "execution_count": null,
   "id": "98a0dbcf",
   "metadata": {},
   "outputs": [
    {
     "data": {
      "text/plain": [
       "60"
      ]
     },
     "execution_count": 3,
     "metadata": {},
     "output_type": "execute_result"
    }
   ],
   "source": [
    "i = 10\n",
    "# 複合指定運算子\n",
    "i += 50\n",
    "i"
   ]
  },
  {
   "cell_type": "code",
   "execution_count": 10,
   "id": "9fe2872a",
   "metadata": {},
   "outputs": [
    {
     "name": "stdout",
     "output_type": "stream",
     "text": [
      "55\n"
     ]
    }
   ],
   "source": [
    "i = 0\n",
    "for add in range(1,11):\n",
    "    i += add\n",
    "print(i)"
   ]
  },
  {
   "cell_type": "code",
   "execution_count": 12,
   "id": "858f97ee",
   "metadata": {},
   "outputs": [
    {
     "name": "stdout",
     "output_type": "stream",
     "text": [
      "太小了!\n",
      "太大了!\n",
      "猜對了!\n",
      "遊戲結束\n"
     ]
    }
   ],
   "source": [
    "# 猜數字遊戲 (簡化版)\n",
    "import random\n",
    "secret_number = random.randint(1, 10)\n",
    "\n",
    "while True: # 無限迴圈\n",
    "    guess = int(input(\"請猜一個1到10的數字\"))\n",
    "    if guess == secret_number:\n",
    "        print(\"猜對了!\")\n",
    "        break # 跳出迴圈\n",
    "    elif guess < secret_number:\n",
    "        print(\"太小了!\")\n",
    "    else:\n",
    "        print(\"太大了!\")\n",
    "\n",
    "print(\"遊戲結束\")"
   ]
  }
 ],
 "metadata": {
  "kernelspec": {
   "display_name": "langchain",
   "language": "python",
   "name": "python3"
  },
  "language_info": {
   "codemirror_mode": {
    "name": "ipython",
    "version": 3
   },
   "file_extension": ".py",
   "mimetype": "text/x-python",
   "name": "python",
   "nbconvert_exporter": "python",
   "pygments_lexer": "ipython3",
   "version": "3.11.13"
  }
 },
 "nbformat": 4,
 "nbformat_minor": 5
}
