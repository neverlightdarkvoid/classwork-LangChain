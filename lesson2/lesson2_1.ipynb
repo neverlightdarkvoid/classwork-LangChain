{
 "cells": [
  {
   "cell_type": "markdown",
   "id": "7972756a",
   "metadata": {},
   "source": [
    "### python 數學運算"
   ]
  },
  {
   "cell_type": "markdown",
   "id": "f6a46a81",
   "metadata": {},
   "source": [
    "```\n",
    "# 基本語法 : 變數名稱 = 值\n",
    "name = \"小明\"\n",
    "age = 18\n",
    "height = 170.5\n",
    "is_student = True\n",
    "```"
   ]
  },
  {
   "cell_type": "code",
   "execution_count": 11,
   "id": "e14635fa",
   "metadata": {},
   "outputs": [
    {
     "name": "stdout",
     "output_type": "stream",
     "text": [
      "小明\n",
      "<class 'str'>\n",
      "==============================\n",
      "18\n",
      "<class 'int'>\n",
      "==============================\n",
      "170.5\n",
      "<class 'float'>\n",
      "==============================\n",
      "True\n",
      "<class 'bool'>\n"
     ]
    }
   ],
   "source": [
    "name = \"小明\"\n",
    "print(name)\n",
    "print(type(name)) # 呼叫function\n",
    "print('==============================')\n",
    "\n",
    "age = 18\n",
    "print(age)\n",
    "print(type(age))\n",
    "print('==============================')\n",
    "\n",
    "height = 170.5\n",
    "print(height)\n",
    "print(type(height))\n",
    "print('==============================')\n",
    "\n",
    "is_student = True\n",
    "print(is_student)\n",
    "print(type(is_student))"
   ]
  },
  {
   "cell_type": "code",
   "execution_count": 18,
   "id": "9632cf9e",
   "metadata": {},
   "outputs": [
    {
     "name": "stdout",
     "output_type": "stream",
     "text": [
      "name變數儲存的值是小明,資料類型是:<class 'str'>.\n",
      "age變數儲存的值是18,資料類型是:<class 'int'>.\n"
     ]
    }
   ],
   "source": [
    "# 看懂文件\n",
    "print(\"name變數儲存的值是\", name,\",資料類型是:\", type(name), sep='', end='.\\n')\n",
    "print(\"age變數儲存的值是\", age,\",資料類型是:\", type(age), sep='', end='.\\n')"
   ]
  },
  {
   "cell_type": "code",
   "execution_count": 23,
   "id": "1707a921",
   "metadata": {},
   "outputs": [
    {
     "name": "stdout",
     "output_type": "stream",
     "text": [
      "name變數儲存的值是小明,資料類型是:<class 'str'>.\n",
      "age變數儲存的值是18,資料類型是:<class 'int'>.\n"
     ]
    }
   ],
   "source": [
    "# 字串插補\n",
    "print(f\"name變數儲存的值是{name},資料類型是:{type(name)}.\")\n",
    "print(f\"age變數儲存的值是{age},資料類型是:{type(age)}.\")"
   ]
  },
  {
   "cell_type": "code",
   "execution_count": 28,
   "id": "87ab39b3",
   "metadata": {},
   "outputs": [
    {
     "name": "stdout",
     "output_type": "stream",
     "text": [
      "加法 a + b = 10\n",
      "減法 a - b = 4\n",
      "乘法 a * b = 21\n",
      "除法 a / b = 2.33\n",
      "取餘數 a % b = 1\n",
      "次方 a ** b = 343\n"
     ]
    }
   ],
   "source": [
    "# 數學運算\n",
    "a = 7\n",
    "b = 3\n",
    "\n",
    "\n",
    "sum_result = a + b\n",
    "sub_result = a - b\n",
    "mul_result = a * b\n",
    "div_result = a / b\n",
    "mod_result = a % b\n",
    "pow_result = a ** b\n",
    "\n",
    "print(f\"加法 a + b = {sum_result}\")\n",
    "print(f\"減法 a - b = {sub_result}\")\n",
    "print(f\"乘法 a * b = {mul_result}\")\n",
    "print(f\"除法 a / b = {div_result:.2f}\")\n",
    "print(f\"取餘數 a % b = {mod_result}\")\n",
    "print(f\"次方 a ** b = {pow_result}\")"
   ]
  },
  {
   "cell_type": "code",
   "execution_count": 29,
   "id": "d1972d36",
   "metadata": {},
   "outputs": [
    {
     "name": "stdout",
     "output_type": "stream",
     "text": [
      "斜邊長度 = 5.00\n"
     ]
    }
   ],
   "source": [
    "# 有一個直角三角形，已知兩邊長，求第三邊長\n",
    "import math\n",
    "\n",
    "adjacent_side = 3 # 鄰邊長度\n",
    "opposite_side = 4 # 對邊長度\n",
    "\n",
    "# 使用畢氏定理計算第三邊長\n",
    "hypotenuse_length = math.sqrt(adjacent_side**2 + opposite_side**2)\n",
    "\n",
    "print(f\"斜邊長度 = {hypotenuse_length:.2f}\")"
   ]
  },
  {
   "cell_type": "code",
   "execution_count": 34,
   "id": "4de1ffa6",
   "metadata": {},
   "outputs": [
    {
     "name": "stdout",
     "output_type": "stream",
     "text": [
      "斜邊長度 = 6.40\n"
     ]
    }
   ],
   "source": [
    "import math\n",
    "\n",
    "adjacent_side = 5\n",
    "opposite_side = 4\n",
    "\n",
    "hypotenuse_length = math.sqrt(adjacent_side ** 2 + opposite_side ** 2)\n",
    "print(f\"斜邊長度 = {hypotenuse_length:.2f}\")"
   ]
  },
  {
   "cell_type": "code",
   "execution_count": null,
   "id": "884198b3",
   "metadata": {},
   "outputs": [
    {
     "name": "stdout",
     "output_type": "stream",
     "text": [
      "robert\n"
     ]
    }
   ],
   "source": [
    "is_nice:bool = False\n",
    "print(\"robert\")\n",
    "#單項選擇\n",
    "if is_nice:\n",
    "    print(\"robert is nice\")"
   ]
  },
  {
   "cell_type": "code",
   "execution_count": 37,
   "id": "ab5b46b4",
   "metadata": {},
   "outputs": [
    {
     "name": "stdout",
     "output_type": "stream",
     "text": [
      "robert\n",
      "robert is nice\n"
     ]
    }
   ],
   "source": [
    "is_nice:bool = True\n",
    "print(\"robert\")\n",
    "#雙項選擇\n",
    "if is_nice:\n",
    "    print(\"robert is nice\")\n",
    "else:\n",
    "    print(\"robert is not nice\")"
   ]
  },
  {
   "cell_type": "code",
   "execution_count": 38,
   "id": "117d36a8",
   "metadata": {},
   "outputs": [
    {
     "name": "stdout",
     "output_type": "stream",
     "text": [
      "及格\n"
     ]
    }
   ],
   "source": [
    "scores = 75\n",
    "if scores >= 60:\n",
    "    print(\"及格\")\n",
    "else:\n",
    "    print(\"不及格\")"
   ]
  },
  {
   "cell_type": "code",
   "execution_count": 40,
   "id": "febd0a72",
   "metadata": {},
   "outputs": [
    {
     "name": "stdout",
     "output_type": "stream",
     "text": [
      "優秀\n"
     ]
    }
   ],
   "source": [
    "# 多項選擇\n",
    "score = 95\n",
    "\n",
    "if score >= 90:\n",
    "    print(\"優秀\")\n",
    "elif score >= 80:\n",
    "    print(\"良好\")\n",
    "elif score >= 70:\n",
    "    print(\"中等\")\n",
    "else:\n",
    "    print(\"還須努力\")"
   ]
  }
 ],
 "metadata": {
  "kernelspec": {
   "display_name": "langchain",
   "language": "python",
   "name": "python3"
  },
  "language_info": {
   "codemirror_mode": {
    "name": "ipython",
    "version": 3
   },
   "file_extension": ".py",
   "mimetype": "text/x-python",
   "name": "python",
   "nbconvert_exporter": "python",
   "pygments_lexer": "ipython3",
   "version": "3.11.13"
  }
 },
 "nbformat": 4,
 "nbformat_minor": 5
}
