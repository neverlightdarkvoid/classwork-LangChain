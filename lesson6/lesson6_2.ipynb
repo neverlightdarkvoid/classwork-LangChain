{
 "cells": [
  {
   "cell_type": "code",
   "execution_count": 2,
   "id": "f6eb1a13",
   "metadata": {},
   "outputs": [],
   "source": [
    "from langchain.prompts import ChatPromptTemplate\n",
    "from langchain_ollama import OllamaLLM\n",
    "from langchain.schema.output_parser import StrOutputParser"
   ]
  },
  {
   "cell_type": "code",
   "execution_count": 3,
   "id": "ce09b2ae",
   "metadata": {},
   "outputs": [],
   "source": [
    "model = OllamaLLM(\n",
    "    model=\"llama3.2:latest\",\n",
    "    temperatrue=0.7,\n",
    "    top_p=0.9\n",
    "    )"
   ]
  },
  {
   "cell_type": "code",
   "execution_count": 4,
   "id": "01dd0a55",
   "metadata": {},
   "outputs": [],
   "source": [
    "prompt = ChatPromptTemplate.from_template(\n",
    "    \"\"\"你是一位專業的{role}，請用{style}的風格來介紹{topic}。\n",
    "\n",
    "要求 :\n",
    "1. 內容要準確且易懂\n",
    "2. 長度控制在200字以內\n",
    "3. 使用繁體中文回答\n",
    "\n",
    "請開始介紹 :\"\"\"\n",
    ")"
   ]
  },
  {
   "cell_type": "code",
   "execution_count": 5,
   "id": "a65f7016",
   "metadata": {},
   "outputs": [
    {
     "name": "stdout",
     "output_type": "stream",
     "text": [
      "深度學習是一種人工智慧技術，通過使用神經網路模型來完成複雜計算和識別任務。它的關鍵特點是模仿人腦的神經組織結構，從而形成強大的感知和學習能力。\n",
      "\n",
      "深度學習的核心原理是用多層次的神經元（Neurons）構建一個模型，這些神經元通過連接和互相作用來生成 Complex 的資訊。這種模型可以學習和記憶許多樣式、模式和關係，從而達到高精度的識別和預測。\n",
      "\n",
      "深度學習已被應用於許多領域，如機器視覺、自然語言處理、感知器官和行為預測等。它的優勢在於能夠有效地處理大型數據集，並且能夠自我適應和改進。\n"
     ]
    }
   ],
   "source": [
    "chain = (prompt | model | StrOutputParser())\n",
    "result = chain.invoke(\n",
    "    {\n",
    "        \"role\":\"AI專家\",\n",
    "        \"style\":\"簡潔明瞭\",\n",
    "        \"topic\":\"深度學習\"\n",
    "    }\n",
    ")\n",
    "print(result)"
   ]
  }
 ],
 "metadata": {
  "kernelspec": {
   "display_name": ".venv",
   "language": "python",
   "name": "python3"
  },
  "language_info": {
   "codemirror_mode": {
    "name": "ipython",
    "version": 3
   },
   "file_extension": ".py",
   "mimetype": "text/x-python",
   "name": "python",
   "nbconvert_exporter": "python",
   "pygments_lexer": "ipython3",
   "version": "3.10.18"
  }
 },
 "nbformat": 4,
 "nbformat_minor": 5
}
