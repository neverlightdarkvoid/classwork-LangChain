{
 "cells": [
  {
   "cell_type": "code",
   "execution_count": 17,
   "id": "9b8410fb",
   "metadata": {},
   "outputs": [],
   "source": [
    "from langchain.prompts import ChatPromptTemplate\n",
    "from langchain.schema.output_parser import StrOutputParser\n",
    "from langchain_ollama.llms import OllamaLLM\n",
    "\n",
    "model = OllamaLLM(model=\"gpt-oss:20b\")"
   ]
  },
  {
   "cell_type": "code",
   "execution_count": 18,
   "id": "d6f821bf",
   "metadata": {},
   "outputs": [],
   "source": [
    "prompt_template = ChatPromptTemplate.from_messages([\n",
    "    (\"system\",\"你是一個專業的客服代表，負責回復客戶郵件。請用友善、專業的語調回復。\"),\n",
    "    (\"human\",\"請回覆這封客戶郵件 : \\n\\n{email_content}\")\n",
    "])"
   ]
  },
  {
   "cell_type": "code",
   "execution_count": 19,
   "id": "de43c623",
   "metadata": {},
   "outputs": [],
   "source": [
    "chain = (prompt_template\n",
    "        | model\n",
    "        | StrOutputParser()\n",
    ")"
   ]
  },
  {
   "cell_type": "code",
   "execution_count": 20,
   "id": "7d967d89",
   "metadata": {},
   "outputs": [],
   "source": [
    "customer_email = \"\"\"你好:\n",
    "我最近購買了貴公司的產品，但是發現包裝有損壞，而且產品功能與說明書不符。\n",
    "請問可以退貨或換貨嗎? 我已經購買一周了。\n",
    "\n",
    "期待您的回覆。\n",
    "\n",
    "\n",
    "王小明\"\"\""
   ]
  },
  {
   "cell_type": "code",
   "execution_count": 21,
   "id": "5e574460",
   "metadata": {},
   "outputs": [
    {
     "name": "stdout",
     "output_type": "stream",
     "text": [
      "尊敬的王小明您好，\n",
      "\n",
      "感謝您選擇並信賴我們的產品，並在購買後即時反饋問題。  \n",
      "對於您收到的產品包裝受損以及功能與說明書不符的狀況，我們深表歉意，並立即為您安排最適合的處理方案。\n",
      "\n",
      "---\n",
      "\n",
      "### 1️⃣ 先確認資訊  \n",
      "為確保您能順利完成退換，我們需要以下資訊（請於回覆中提供）：\n",
      "\n",
      "| 項目 | 需要資料 |\n",
      "|------|----------|\n",
      "| 1. 訂單號碼 | （如在郵件、發票或會員中心可查詢） |\n",
      "| 2. 商品型號/名稱 | |\n",
      "| 3. 受損部位 | 例如：盒子破損、封條裂開等 |\n",
      "| 4. 功能不符描述 | 例如：功能X未啟用、說明書上標示的按鍵位置與實際不同 |\n",
      "| 5. 照片 | 請附上包裝損壞與產品功能異常的照片（最好使用手機正面拍攝，並保留商品原包裝） |\n",
      "\n",
      "---\n",
      "\n",
      "### 2️⃣ 退換貨流程  \n",
      "| 步驟 | 說明 |\n",
      "|------|------|\n",
      "| **①** | 您收到此回覆後，請將上述資訊與照片回傳給我們。 |\n",
      "| **②** | 我們將在收到您完整資料後 **24~48 小時內** 核對並回覆您是否符合退換條件。 |\n",
      "| **③** | 若符合，我們將提供免費退貨標籤，並安排退貨或換貨。 |\n",
      "| **④** | 退貨/換貨完成後，若您選擇退款，我們會在 **7 個工作天內** 把款項退回原支付方式。 |\n",
      "\n",
      "> **備註**  \n",
      "> - 我們的退貨政策為「自購買日起 30 天內」可退換，您目前已購買一週，仍在有效期限內。  \n",
      "> - 若您願意先保留商品並等待換貨，我們亦可安排同類型產品（如有庫存）寄給您。  \n",
      "\n",
      "---\n",
      "\n",
      "### 3️⃣ 其他支援  \n",
      "- 如您在填寫資料或操作退貨時有任何疑問，歡迎隨時撥打客服專線 **(02) 1234‑5678** 或直接回覆此郵件，我們的客服團隊將第一時間協助您。  \n",
      "- 若您想查詢退貨進度，可在會員中心「訂單管理」中查看「退換貨狀態」。\n",
      "\n",
      "---\n",
      "\n",
      "再次對此次不愉快經驗表示歉意，我們將以此為契機，持續改善產品品質與客服流程。期待能儘速為您解決問題，讓您再次體驗我們的品質與服務。\n",
      "\n",
      "祝 您生活愉快，  \n",
      "**[您的公司名稱] 客戶服務團隊**  \n",
      "客服專線： (02) 1234‑5678 | Email：support@yourcompany.com  \n",
      "網站： www.yourcompany.com\n",
      "\n",
      "---\n"
     ]
    }
   ],
   "source": [
    "result = chain.invoke({\n",
    "    \"email_content\":customer_email\n",
    "})\n",
    "\n",
    "print(result)"
   ]
  }
 ],
 "metadata": {
  "kernelspec": {
   "display_name": ".venv",
   "language": "python",
   "name": "python3"
  },
  "language_info": {
   "codemirror_mode": {
    "name": "ipython",
    "version": 3
   },
   "file_extension": ".py",
   "mimetype": "text/x-python",
   "name": "python",
   "nbconvert_exporter": "python",
   "pygments_lexer": "ipython3",
   "version": "3.10.18"
  }
 },
 "nbformat": 4,
 "nbformat_minor": 5
}
