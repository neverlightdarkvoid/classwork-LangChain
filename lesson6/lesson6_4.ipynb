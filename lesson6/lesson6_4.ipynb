{
 "cells": [
  {
   "cell_type": "code",
   "execution_count": 33,
   "id": "9b8410fb",
   "metadata": {},
   "outputs": [],
   "source": [
    "from langchain.prompts import ChatPromptTemplate\n",
    "from langchain.schema.output_parser import StrOutputParser\n",
    "from langchain_ollama.llms import OllamaLLM\n",
    "from langchain.schema.runnable import RunnableLambda\n",
    "\n",
    "model = OllamaLLM(model=\"gpt-oss:20b\")"
   ]
  },
  {
   "cell_type": "code",
   "execution_count": 34,
   "id": "d6f821bf",
   "metadata": {},
   "outputs": [],
   "source": [
    "prompt_template = ChatPromptTemplate.from_messages([\n",
    "    (\"system\",\"你是一個專業的客服代表，負責回復客戶郵件。請用友善、專業的語調回復。請不要回覆(公司的訊息和結尾詞)，我會自己手動增加\"),\n",
    "    (\"human\",\"請回覆這封客戶郵件 : \\n\\n{email_content}\")\n",
    "])"
   ]
  },
  {
   "cell_type": "code",
   "execution_count": 35,
   "id": "9f32aa41",
   "metadata": {},
   "outputs": [],
   "source": [
    "import datetime\n",
    "\n",
    "def format_email_reply(ai_answer:str) -> str:\n",
    "    formatted_reply = f\"\"\"{ai_answer}\n",
    "\n",
    "感謝您的來信，如有其他問題請隨時聯繫我們。\n",
    "\n",
    "此致\n",
    "致理客服團隊\n",
    "\n",
    "回覆時間:{datetime.datetime.now().strftime(\"中華民國,西元%Y-%m-%d %H:%M\")}\n",
    "\"\"\"\n",
    "\n",
    "    return formatted_reply\n",
    "\n",
    "format_email = RunnableLambda(format_email_reply)"
   ]
  },
  {
   "cell_type": "code",
   "execution_count": 36,
   "id": "de43c623",
   "metadata": {},
   "outputs": [],
   "source": [
    "chain = (prompt_template\n",
    "        | model\n",
    "        | StrOutputParser()\n",
    "        | format_email\n",
    ")"
   ]
  },
  {
   "cell_type": "code",
   "execution_count": 37,
   "id": "7d967d89",
   "metadata": {},
   "outputs": [],
   "source": [
    "customer_email = \"\"\"你好:\n",
    "我最近購買了貴公司的產品，但是發現包裝有損壞，而且產品功能與說明書不符。\n",
    "請問可以退貨或換貨嗎? 我已經購買一周了。\n",
    "\n",
    "期待您的回覆。\n",
    "\n",
    "\n",
    "王小明\"\"\""
   ]
  },
  {
   "cell_type": "code",
   "execution_count": 38,
   "id": "5e574460",
   "metadata": {},
   "outputs": [
    {
     "name": "stdout",
     "output_type": "stream",
     "text": [
      "您好，\n",
      "\n",
      "很抱歉聽到您收到的產品出現包裝損壞且功能與說明書不符的情況，給您帶來的不便敬請見諒。為了協助您盡快解決，我們需要以下資訊：\n",
      "\n",
      "1. **訂單編號**（或購買收據號碼）\n",
      "2. 受損包裝與功能不符的照片（請一併拍攝產品正面、背面以及說明書頁面）\n",
      "3. 您希望的處理方式（退貨退款或換貨）\n",
      "\n",
      "收到上述資料後，我們會立即為您安排以下處理方式之一：\n",
      "\n",
      "- **退貨退款**：您將收到退貨標籤，並在收到商品並確認狀況後，原路退還全額款項（含運費）。\n",
      "- **換貨**：若您願意，我們將為您寄送一台全新、無損壞的產品，並保證功能與說明書完全一致。\n",
      "\n",
      "請於收到此訊息後，將上述資料發送至客服郵箱，或直接回覆本郵件，並在附件中上傳照片。您也可選擇電話聯繫客服（電話號碼：XXX-XXXX-XXXX），我們將提供更即時的協助。\n",
      "\n",
      "再次感謝您的耐心與配合，期待盡快為您處理此問題，讓您能安心使用我們的產品。\n",
      "\n",
      "祝好！\n",
      "\n",
      "感謝您的來信，如有其他問題請隨時聯繫我們。\n",
      "\n",
      "此致\n",
      "致理客服團隊\n",
      "\n",
      "回覆時間:中華民國,西元2025-10-18 14:46\n",
      "\n"
     ]
    }
   ],
   "source": [
    "result = chain.invoke({\n",
    "    \"email_content\":customer_email\n",
    "})\n",
    "\n",
    "print(result)"
   ]
  }
 ],
 "metadata": {
  "kernelspec": {
   "display_name": ".venv",
   "language": "python",
   "name": "python3"
  },
  "language_info": {
   "codemirror_mode": {
    "name": "ipython",
    "version": 3
   },
   "file_extension": ".py",
   "mimetype": "text/x-python",
   "name": "python",
   "nbconvert_exporter": "python",
   "pygments_lexer": "ipython3",
   "version": "3.10.18"
  }
 },
 "nbformat": 4,
 "nbformat_minor": 5
}
