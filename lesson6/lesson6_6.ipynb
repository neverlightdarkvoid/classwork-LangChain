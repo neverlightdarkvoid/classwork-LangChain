{
 "cells": [
  {
   "cell_type": "code",
   "execution_count": 12,
   "id": "94baad87",
   "metadata": {},
   "outputs": [],
   "source": [
    "# 導入必要條件\n",
    "from langchain.prompts import ChatPromptTemplate\n",
    "from langchain.schema.output_parser import StrOutputParser\n",
    "from langchain.schema.runnable import RunnableParallel, RunnableLambda\n",
    "from langchain_ollama import ChatOllama\n",
    "\n",
    "# 建立 Ollama 模型\n",
    "model = ChatOllama(\n",
    "    model=\"gpt-oss:20b\",\n",
    "    temperatrue=0.7\n",
    "    )"
   ]
  },
  {
   "cell_type": "code",
   "execution_count": 13,
   "id": "ca43f132",
   "metadata": {},
   "outputs": [],
   "source": [
    "# 定義主要提示模板 - 餐廳評論分析\n",
    "prompt_template = ChatPromptTemplate.from_messages(\n",
    "    [\n",
    "        (\"system\",\"你是一個專業的餐廳評論家，擅長分析餐廳的優缺點。\"),\n",
    "        (\"human\",\"請分析這家餐廳 : {restaurant_info}\"),\n",
    "    ]\n",
    ")"
   ]
  },
  {
   "cell_type": "code",
   "execution_count": 14,
   "id": "ec3d9b4f",
   "metadata": {},
   "outputs": [],
   "source": [
    "pros_template = ChatPromptTemplate.from_messages(\n",
    "    [\n",
    "        (\"system\",\"你是一個專業的餐廳評論家，擅長分析餐廳的優點。\"),\n",
    "        (\"human\",\"根據餐廳資訊 : {restaurant_info}，請列出這家餐廳的優點。\"),\n",
    "    ]\n",
    ")\n",
    "\n",
    "pros_branch_chain =  (\n",
    "    pros_template\n",
    "    | model\n",
    "    | StrOutputParser()\n",
    ")"
   ]
  },
  {
   "cell_type": "code",
   "execution_count": 15,
   "id": "590f5c4e",
   "metadata": {},
   "outputs": [],
   "source": [
    "cons_template = ChatPromptTemplate.from_messages(\n",
    "    [\n",
    "        (\"system\",\"你是一個專業的餐廳評論家，擅長分析餐廳的缺點。\"),\n",
    "        (\"human\",\"根據餐廳資訊 : {restaurant_info}，請列出這家餐廳的缺點。\"),\n",
    "    ]\n",
    ")\n",
    "\n",
    "cons_branch_chain =  (\n",
    "    cons_template\n",
    "    | model\n",
    "    | StrOutputParser()\n",
    ")"
   ]
  },
  {
   "cell_type": "code",
   "execution_count": 16,
   "id": "47759a08",
   "metadata": {},
   "outputs": [],
   "source": [
    "def combine_pros_cons(pros, cons):\n",
    "    \"\"\"將優點和缺點合併成最終評論\"\"\"\n",
    "    return f\"\"\"\n",
    "🍽️ 餐廳評論分析報告\n",
    "{'='*50}\n",
    "\n",
    "✅ 優點分析：\n",
    "{pros}\n",
    "\n",
    "❌ 缺點分析：\n",
    "{cons}\n",
    "\n",
    "📊 總結：這是一個平衡的餐廳評論分析\n",
    "\"\"\""
   ]
  },
  {
   "cell_type": "code",
   "execution_count": 17,
   "id": "84813e09",
   "metadata": {},
   "outputs": [],
   "source": [
    "chain = (\n",
    "    prompt_template \n",
    "    | model \n",
    "    | StrOutputParser()\n",
    "    | RunnableLambda(lambda x:{\"restaurant_info\":x})\n",
    "    | RunnableParallel(\n",
    "        pros = pros_branch_chain,\n",
    "        cons = cons_branch_chain\n",
    "    )\n",
    "    | RunnableLambda(lambda x: combine_pros_cons(x['pros'],x['cons']))\n",
    ")"
   ]
  },
  {
   "cell_type": "code",
   "execution_count": 18,
   "id": "408bd00c",
   "metadata": {},
   "outputs": [
    {
     "name": "stdout",
     "output_type": "stream",
     "text": [
      "\n",
      "🍽️ 餐廳評論分析報告\n",
      "==================================================\n",
      "\n",
      "✅ 優點分析：\n",
      "### 本家義大利餐廳的主要優點\n",
      "\n",
      "| 類別 | 具體優點 |\n",
      "|------|----------|\n",
      "| **環境與氛圍** | - 以歐式復古裝潢營造沉浸式義大利氛圍，燈光柔和、音樂恰到好處，打造浪漫、適合約會與特殊場合的場景。<br>- 桌椅距離適中，私密度高，特別適合兩人對談或小型聚會。<br>- 位於台北市中心，交通便利，能夠吸引多樣客群。 |\n",
      "| **服務品質** | - 員工禮貌、專業，能即時回應客人需求。<br>- 服務人員對菜品與酒水擁有豐富知識，對不熟悉義式料理的顧客耐心解說。<br>- 服務流程流暢，能在高峰期仍保持良好溝通效率。 |\n",
      "| **料理品質** | - 以傳統義式料理為主，醬汁平衡、香料運用恰到好處，麵條口感優秀。<br>- 采用新鮮本地食材與義大利進口食材結合，保證食材新鮮度與風味。<br>- 部分菜品加入台灣在地食材，帶來微妙的異國風味創新。<br>- 份量雖偏小，但非常適合共享或搭配多道小盤，增添用餐樂趣。 |\n",
      "| **價格與價值** | - 雖定位高檔，主菜價格約 1,200–2,000 元，但以環境、料理與服務相加仍屬合理範圍。<br>- 適合想要一次性提升餐飲體驗、慶祝特殊日子（如周年紀念、生日、商務宴請）的顧客。 |\n",
      "| **特殊場合適用性** | - 既能作為浪漫約會的絕佳選擇，也適合商務宴請、生日慶祝、周年紀念等特殊場合。 |\n",
      "| **總體評價** | - 綜合環境、服務與料理三大要素，給予 4.0/5 的總評，展現其在高品質餐飲體驗上的領先地位。 |\n",
      "\n",
      "> **結語**：若您願意為一場高品質、充滿浪漫氛圍的義大利餐飲體驗付出額外費用，並能忍受一定的等待時間，這家餐廳將是您理想的選擇。祝您用餐愉快！\n",
      "\n",
      "❌ 缺點分析：\n",
      "**缺點總覽**\n",
      "\n",
      "1. **空間狹小且擁擠**  \n",
      "   - 高地段、客流量大，週末及節假日特別擁擠，影響用餐舒適度。\n",
      "\n",
      "2. **上菜速度偶爾延遲**  \n",
      "   - 人手短缺時，特別在點餐高峰期，菜品上桌時間較長。\n",
      "\n",
      "3. **份量偏小**  \n",
      "   - 主菜多為小份量，適合兩人共享；若想要主食份量，需點多道小盤或追加。\n",
      "\n",
      "4. **價格偏高**  \n",
      "   - 主菜在 1,200–2,000 元，對預算有限的顧客或大團體而言不夠經濟。\n",
      "\n",
      "5. **等待時間長**  \n",
      "   - 排隊常超過 30 分鐘，尤其在高峰時段；需提前預約或避開高峰。\n",
      "\n",
      "6. **部分菜品創意有限**  \n",
      "   - 以傳統義式為主，雖加入台灣在地食材，但整體創意和多樣性相對較少。\n",
      "\n",
      "7. **適用場景受限**  \n",
      "   - 優雅氛圍最適合約會、特殊場合，較不適合家庭聚餐或大規模商務聚會。\n",
      "\n",
      "📊 總結：這是一個平衡的餐廳評論分析\n",
      "\n"
     ]
    }
   ],
   "source": [
    "restaurant_info = \"\"\"\n",
    "這是一家位於台北市中心的義大利餐廳，提供傳統義式料理。\n",
    "餐廳環境優雅，服務人員親切，但價格偏高，等待時間較長。\n",
    "食物品質不錯，但份量偏少。適合約會或特殊場合用餐。\n",
    "\"\"\"\n",
    "\n",
    "result = chain.invoke({\"restaurant_info\": restaurant_info})\n",
    "\n",
    "print(result)"
   ]
  }
 ],
 "metadata": {
  "kernelspec": {
   "display_name": ".venv",
   "language": "python",
   "name": "python3"
  },
  "language_info": {
   "codemirror_mode": {
    "name": "ipython",
    "version": 3
   },
   "file_extension": ".py",
   "mimetype": "text/x-python",
   "name": "python",
   "nbconvert_exporter": "python",
   "pygments_lexer": "ipython3",
   "version": "3.10.18"
  }
 },
 "nbformat": 4,
 "nbformat_minor": 5
}
