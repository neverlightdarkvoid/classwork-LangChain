{
 "cells": [
  {
   "cell_type": "code",
   "execution_count": 16,
   "id": "6a33b1e2",
   "metadata": {},
   "outputs": [
    {
     "name": "stdout",
     "output_type": "stream",
     "text": [
      "Python 是一個非常流行的程式語言，特別是在資料科學、機器學習、網路開發等領域。以下是 Python 的基本intro:\n",
      "\n",
      "**What is Python?**\n",
      "\n",
      "Python 是由布萊恩·JOHN斯 (Brian Kernighan) 和 強納斯·卡拉爾 (Guido van Rossum) 關於 20 世紀後期所創建的一個程式語言。它最初被設計為一种易于学习、易于使用的語言，以便於大型系統和應用程序的开发。\n",
      "\n",
      "**Python 的特點**\n",
      "\n",
      "1. **簡單易用**: Python 的語法簡單，程式有點像日常生活中使用的語言（例如英文），因此它很適合新手 programmers。\n",
      "2. **高级程式**: 這個程式語言的能力在程式風格上超越了普通程式設計。它能夠處理多種數據類型，支持多種程式架構和標準。\n",
      "3. **自由開源**: Python 是一個免費、無主權的程式語言，這意味著它是任何人都可以使用、修改和發布的。\n",
      "4. **廣泛應用**: Python 被廣泛應用於許多領域，包括資料科學、機器學習、網路開發、ゲーム開發、教育等。\n",
      "\n",
      "**Python 的程式語言環境**\n",
      "\n",
      "1. **Interpreted language**: 這個程式語言不需要編譯過程，因此可以動態執行。\n",
      "2. **Scripting language**: 這種程式語言常被用於組成小型程序或_script_，例如Web Scraping、爬蟲等。\n",
      "3. **Object-oriented language**: 這個程式語言支持物體導向程式設計（OOP），使得程式更具組織和維護性。\n",
      "\n",
      "**Python 的常用功能**\n",
      "\n",
      "1. **數據處理**: Python 有豐富的數據處理庫，包括 NumPy、pandas 和 Matplotlib 等。\n",
      "2. **網路開發**: Python 可以使用 Flask 或 Django 等框架來開發 web applications。\n",
      "3. **機器學習**: 這個程式語言有豐富的機器學習庫，包括 Scikit-learn 和 TensorFlow 等。\n",
      "\n",
      "**Python 的優點**\n",
      "\n",
      "1. **快速學習**: Python 的語法簡單，使得新手 programmers สามารถ快速上手。\n",
      "2. **高效**: 這個程式語 language 能夠處理大量數據和複雜計算。\n",
      "3. **廣泛應用**: Python 的可用性在多個領域都有很強的吸引力。\n",
      "\n",
      "**Python 的缺點**\n",
      "\n",
      "1. **速度**: 這個程式語 language 的速度相對較慢，特別是在高效系統開發中可能會受到影響。\n",
      "2. **安全性**: Python 的安全性取決於程式設計和使用，未經處理的輸入可能導致安全風險。\n",
      "\n",
      "總的來說，Python 是一個流行且可用的程式語言，能夠快速上手並進行多種應用，尤其是在資料科學、機器學習和網路開發等領域。\n"
     ]
    }
   ],
   "source": [
    "from langchain.prompts import ChatPromptTemplate\n",
    "from langchain_ollama.llms import OllamaLLM\n",
    "from langchain.schema.output_parser import StrOutputParser\n",
    "\n",
    "prompt = ChatPromptTemplate.from_template(\"請介紹{topic}\")\n",
    "model = OllamaLLM(model=\"llama3.2:latest\")\n",
    "output_parser = StrOutputParser()\n",
    "\n",
    "# 使用LCEL語法建立鏈\n",
    "\n",
    "chain = (prompt \n",
    "            | model \n",
    "            | output_parser)\n",
    "\n",
    "print(chain.invoke({\"topic\":\"python\"}))"
   ]
  },
  {
   "cell_type": "code",
   "execution_count": 27,
   "id": "15507b5c",
   "metadata": {},
   "outputs": [],
   "source": [
    "def upgrade_level1(name:str) -> str:\n",
    "    result = f\"\"\"{name}\n",
    "等級1\"\"\"\n",
    "    return result\n",
    "\n",
    "def upgrade_level2(input_str) -> str:\n",
    "    result = f\"\"\"{input_str}\n",
    "等級2\"\"\"\n",
    "    return result\n",
    "\n",
    "def upgrade_level3(input_str) -> str:\n",
    "    result = f\"\"\"{input_str}\n",
    "等級3\"\"\"\n",
    "    return result"
   ]
  },
  {
   "cell_type": "code",
   "execution_count": 29,
   "id": "0bec529c",
   "metadata": {},
   "outputs": [
    {
     "name": "stdout",
     "output_type": "stream",
     "text": [
      "林佳微\n",
      "等級1\n",
      "等級2\n",
      "等級3\n"
     ]
    }
   ],
   "source": [
    "total = upgrade_level3(upgrade_level2(upgrade_level1(name=\"林佳微\")))\n",
    "print(total)"
   ]
  }
 ],
 "metadata": {
  "kernelspec": {
   "display_name": ".venv",
   "language": "python",
   "name": "python3"
  },
  "language_info": {
   "codemirror_mode": {
    "name": "ipython",
    "version": 3
   },
   "file_extension": ".py",
   "mimetype": "text/x-python",
   "name": "python",
   "nbconvert_exporter": "python",
   "pygments_lexer": "ipython3",
   "version": "3.10.18"
  }
 },
 "nbformat": 4,
 "nbformat_minor": 5
}
